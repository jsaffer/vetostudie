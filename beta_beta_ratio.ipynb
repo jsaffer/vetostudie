{
 "cells": [
  {
   "cell_type": "code",
   "execution_count": 249,
   "metadata": {},
   "outputs": [],
   "source": [
    "import numpy as np\n",
    "import scipy as sp\n",
    "from scipy import special\n",
    "\n",
    "##\n",
    "import matplotlib.pyplot as plt\n",
    "plt.rcParams['figure.figsize'] = (12, 4)\n",
    "##"
   ]
  },
  {
   "cell_type": "code",
   "execution_count": 250,
   "metadata": {},
   "outputs": [],
   "source": [
    "def is_even(x):\n",
    "    return x % 2 == 0"
   ]
  },
  {
   "cell_type": "code",
   "execution_count": 251,
   "metadata": {},
   "outputs": [],
   "source": [
    "def logbinomial(a, b):\n",
    "    return sp.special.gammaln(a + 1) - sp.special.gammaln(b + 1) - sp.special.gammaln(a - b + 1)"
   ]
  },
  {
   "cell_type": "code",
   "execution_count": 252,
   "metadata": {},
   "outputs": [],
   "source": [
    "a = 0\n",
    "def pdf_beta(p, s, f):\n",
    "    return np.exp((s - 1 + a) * np.log(p) + (f - 1 + a) * np.log(1 - p) - sp.special.betaln(s + a, f + a))"
   ]
  },
  {
   "cell_type": "code",
   "execution_count": 253,
   "metadata": {},
   "outputs": [],
   "source": [
    "def log_hyper_2F1_below_1(a1, a2, b1, b2, w):\n",
    "    log_results_even = []\n",
    "    log_results_odd = []\n",
    "    for n in range(int(b1+a)):\n",
    "        log_resu = logbinomial(b1 - 1 +a, n) + sp.special.gammaln(a1 + a2 + n +2*a) + sp.special.gammaln(a1 + a2 + b2 + 3*a) - sp.special.gammaln(a1 + a2 + b2 + n + 3*a) - sp.special.gammaln(a1 + a2 + 2*a) + n * np.log(w)\n",
    "        if is_even(n):\n",
    "            log_results_even.append(log_resu)\n",
    "        else:\n",
    "            log_results_odd.append(log_resu)\n",
    "    if len(log_results_odd) == 0:\n",
    "        log_results_odd_partsum = -np.inf\n",
    "    else:\n",
    "        log_results_odd_partsum = sp.special.logsumexp(log_results_odd)\n",
    "    if len(log_results_even) == 0:\n",
    "        log_results_even_partsum = -np.inf\n",
    "    else:\n",
    "        log_results_even_partsum = sp.special.logsumexp(log_results_even)\n",
    "    log_result = sp.special.logsumexp([log_results_even_partsum, log_results_odd_partsum], b=[1,-1])\n",
    "    return log_result\n",
    "\n",
    "def log_hyper_2F1_above_1(a1, a2, b1, b2, w):\n",
    "    log_results_even = []\n",
    "    log_results_odd = []\n",
    "    for n in range(int(b2+a)):\n",
    "        log_resu = logbinomial(b2 - 1 +a, n) + sp.special.gammaln(a1 + a2 + n + 2*a) + sp.special.gammaln(a1 + a2 + b1 + 3*a) - sp.special.gammaln(a1 + a2 + b1 + n + 3*a) - sp.special.gammaln(a1 + a2 + 2*a) - n * np.log(w)\n",
    "        if is_even(n):\n",
    "            log_results_even.append(log_resu)\n",
    "        else:\n",
    "            log_results_odd.append(log_resu)\n",
    "    if len(log_results_odd) == 0:\n",
    "        log_results_odd_partsum = -np.inf\n",
    "    else:\n",
    "        log_results_odd_partsum = sp.special.logsumexp(log_results_odd)\n",
    "    if len(log_results_even) == 0:\n",
    "        log_results_even_partsum = -np.inf\n",
    "    else:\n",
    "        log_results_even_partsum = sp.special.logsumexp(log_results_even)\n",
    "    log_result = sp.special.logsumexp([log_results_even_partsum, log_results_odd_partsum], b=[1,-1])\n",
    "    return log_result"
   ]
  },
  {
   "cell_type": "code",
   "execution_count": 254,
   "metadata": {},
   "outputs": [],
   "source": [
    "def pdf_bb_ratio(a1, a2, b1, b2, w):\n",
    "    lnA = sp.special.betaln(a1, b1) + sp.special.betaln(a2, b2)\n",
    "    def pdf_calc(wi):\n",
    "        if wi < 0:\n",
    "            print('Ratio below Zero! Not reasonable!')\n",
    "            exit(1)\n",
    "        elif wi == 0:\n",
    "            resulti = 0\n",
    "        elif wi < 1:\n",
    "            resulti = np.exp(sp.special.betaln(a1 + a2, b2) + (a1 - 1) * np.log(wi) + log_hyper_2F1_below_1(a1, a2, b1, b2, wi) - lnA)\n",
    "        else:\n",
    "            resulti = np.exp(sp.special.betaln(a1 + a2, b1) - (1 + a2) * np.log(wi) + log_hyper_2F1_above_1(a1, a2, b1, b2, wi) - lnA)\n",
    "        return resulti\n",
    "    if isinstance(w, int) or isinstance(w, float):\n",
    "        result = pdf_calc(w)\n",
    "    else:\n",
    "        result = np.zeros(len(w))\n",
    "        for i in range(len(w)):\n",
    "            wi = w[i]\n",
    "            result[i] = pdf_calc(wi)\n",
    "    return result"
   ]
  },
  {
   "cell_type": "code",
   "execution_count": 255,
   "metadata": {},
   "outputs": [],
   "source": [
    "def log_hyper_3F2_below_1(a1, a2, b1, b2, w):\n",
    "    log_results_even = []\n",
    "    log_results_odd = []\n",
    "    for n in range(int(b1)):\n",
    "        log_resu = logbinomial(b1 - 1, n) + sp.special.gammaln(a1 + n) + sp.special.gammaln(a1 + a2 + n) + sp.special.gammaln(a1 + 1) + sp.special.gammaln(a1 + a2 + b2) - sp.special.gammaln(a1) - sp.special.gammaln(a1 + a2) - sp.special.gammaln(a1 + n + 1) - sp.special.gammaln(a1 + a2 + b2 + n) + n * np.log(w)\n",
    "        if is_even(n):\n",
    "            log_results_even.append(log_resu)\n",
    "        else:\n",
    "            log_results_odd.append(log_resu)\n",
    "    if len(log_results_odd) == 0:\n",
    "        log_results_odd_partsum = -np.inf\n",
    "    else:\n",
    "        log_results_odd_partsum = sp.special.logsumexp(log_results_odd)\n",
    "    if len(log_results_even) == 0:\n",
    "        log_results_even_partsum = -np.inf\n",
    "    else:\n",
    "        log_results_even_partsum = sp.special.logsumexp(log_results_even)\n",
    "    log_result = sp.special.logsumexp([log_results_even_partsum, log_results_odd_partsum], b = [1, -1])\n",
    "    return log_result\n",
    "\n",
    "def log_hyper_3F2_above_1(a1, a2, b1, b2, w):\n",
    "    log_results_even = []\n",
    "    log_results_odd = []\n",
    "    for n in range(int(b2)):\n",
    "        log_resu = logbinomial(b2 - 1, n) + sp.special.gammaln(a2 + n) + sp.special.gammaln(a1 + a2 + n) + sp.special.gammaln(a2 + 1) + sp.special.gammaln(a1 + a2 + b1) - sp.special.gammaln(a2) - sp.special.gammaln(a1 + a2) - sp.special.gammaln(a2 + n + 1) - sp.special.gammaln(a1 + a2 + b1 + n) - n * np.log(w)\n",
    "        if is_even(n):\n",
    "            log_results_even.append(log_resu)\n",
    "        else:\n",
    "            log_results_odd.append(log_resu)\n",
    "    if len(log_results_odd) == 0:\n",
    "        log_results_odd_partsum = -np.inf\n",
    "    else:\n",
    "        log_results_odd_partsum = sp.special.logsumexp(log_results_odd)\n",
    "    if len(log_results_even) == 0:\n",
    "        log_results_even_partsum = -np.inf\n",
    "    else:\n",
    "        log_results_even_partsum = sp.special.logsumexp(log_results_even)\n",
    "    log_result = sp.special.logsumexp([log_results_even_partsum, log_results_odd_partsum], b = [1, -1])\n",
    "    return log_result"
   ]
  },
  {
   "cell_type": "code",
   "execution_count": 256,
   "metadata": {},
   "outputs": [],
   "source": [
    "def cdf_bb_ratio(a1, a2, b1, b2, w):\n",
    "    lnA = sp.special.betaln(a1, b1) + sp.special.betaln(a2, b2)\n",
    "    def cum_pdf_calc(wi):\n",
    "        if wi < 0:\n",
    "            print('Ratio below Zero! Not reasonable!')\n",
    "            exit(1)\n",
    "        elif wi == 0:\n",
    "            resulti = 0\n",
    "        elif wi < 1:\n",
    "            resulti = np.exp(sp.special.betaln(a1 + a2, b2) + a1 * np.log(wi) - np.log(a1) + log_hyper_3F2_below_1(a1, a2, b1, b2, wi) - lnA)\n",
    "        else:\n",
    "            resulti = 1 - np.exp(sp.special.betaln(a1 + a2, b1) - a2 * np.log(wi) - np.log(a2) + log_hyper_3F2_above_1(a1, a2, b1, b2, wi) - lnA)\n",
    "        return resulti\n",
    "    if isinstance(w, int) or isinstance(w, float):\n",
    "        result = cum_pdf_calc(w)\n",
    "    else:\n",
    "        result = np.zeros(len(w))\n",
    "        for i in range(len(w)):\n",
    "            wi = w[i]\n",
    "            result[i] = cum_pdf_calc(wi)\n",
    "    return result"
   ]
  },
  {
   "cell_type": "code",
   "execution_count": 262,
   "metadata": {},
   "outputs": [
    {
     "name": "stderr",
     "output_type": "stream",
     "text": [
      "/usr/local/lib/python3.5/dist-packages/ipykernel_launcher.py:3: RuntimeWarning: divide by zero encountered in log\n",
      "  This is separate from the ipykernel package so we can avoid doing imports until\n",
      "/usr/local/lib/python3.5/dist-packages/ipykernel_launcher.py:3: RuntimeWarning: invalid value encountered in log\n",
      "  This is separate from the ipykernel package so we can avoid doing imports until\n"
     ]
    },
    {
     "data": {
      "image/png": "[encoded data removed]",
      "text/plain": [
       "<matplotlib.figure.Figure at 0x7f108844c128>"
      ]
     },
     "metadata": {},
     "output_type": "display_data"
    }
   ],
   "source": [
    "v = np.linspace(0,2,2001)\n",
    "a1 = 2\n",
    "b1 = 2\n",
    "a2 = 8\n",
    "b2 = 5\n",
    "pdf1 = pdf_beta(v, a1, b1)\n",
    "pdf2 = pdf_beta(v, a2, b2)\n",
    "ratio_pdf = pdf_bb_ratio(a1, a2, b1, b2, v)\n",
    "ratio_cdf = cdf_bb_ratio(a1, a2, b1, b2, v)\n",
    "plt.plot(v, pdf1, label = 'PDF 1')\n",
    "plt.plot(v, pdf2, label = 'PDF 2')\n",
    "plt.plot(v, ratio_pdf, label = 'ratio PDF')\n",
    "plt.plot(v, ratio_cdf, label = 'cumulative')\n",
    "\n",
    "#expextation_value = VERGLEICHE RECHNUNG AUF BLATT IN BÜRO!\n",
    "\n",
    "plt.grid(True)\n",
    "plt.legend(loc = 'best', fontsize = 'large')\n",
    "plt.show()"
   ]
  }
 ],
 "metadata": {
  "kernelspec": {
   "display_name": "Python 3",
   "language": "python",
   "name": "python3"
  },
  "language_info": {
   "codemirror_mode": {
    "name": "ipython",
    "version": 3
   },
   "file_extension": ".py",
   "mimetype": "text/x-python",
   "name": "python",
   "nbconvert_exporter": "python",
   "pygments_lexer": "ipython3",
   "version": "3.5.2"
  }
 },
 "nbformat": 4,
 "nbformat_minor": 2
}
