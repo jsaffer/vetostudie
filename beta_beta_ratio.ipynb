{
 "cells": [
  {
   "cell_type": "code",
   "execution_count": 200,
   "metadata": {},
   "outputs": [],
   "source": [
    "import numpy as np\n",
    "import scipy as sp\n",
    "from scipy import special\n",
    "import decimal as dc\n",
    "dc.getcontext().prec = 50\n",
    "\n",
    "############################################\n",
    "import matplotlib.pyplot as plt            #\n",
    "plt.rcParams['figure.figsize'] = (12, 4)   #\n",
    "############################################"
   ]
  },
  {
   "cell_type": "code",
   "execution_count": 198,
   "metadata": {},
   "outputs": [],
   "source": [
    "def is_even(x):\n",
    "    return x % 2 == 0"
   ]
  },
  {
   "cell_type": "code",
   "execution_count": 201,
   "metadata": {},
   "outputs": [
    {
     "name": "stdout",
     "output_type": "stream",
     "text": [
      "1.1666666666666666666666666666666666666666666666678\n"
     ]
    }
   ],
   "source": [
    "def bernoulli_num(n):\n",
    "    B = np.zeros(n+1, dtype=np.dtype(dc.Decimal))\n",
    "    B[0] = dc.Decimal(1.0)\n",
    "    for i in range(1, n+1):\n",
    "        sum = dc.Decimal(0.0)\n",
    "        for k in range(i):\n",
    "            sum += dc.Decimal(1.0*sp.special.binom(i+1, k))*dc.Decimal(B[k])\n",
    "        B[i]=-sum/dc.Decimal(i+1.0)\n",
    "    return B[n]\n",
    "\n",
    "print(bernoulli_num(14))"
   ]
  },
  {
   "cell_type": "code",
   "execution_count": 219,
   "metadata": {},
   "outputs": [],
   "source": [
    "def custom_gammaln(x, d=20):\n",
    "    if x>0:\n",
    "        loggamma = dc.Decimal(x-0.5)*dc.Decimal(1.0*x).ln() - dc.Decimal(x) + dc.Decimal(0.5)*dc.Decimal(2*np.pi).ln()\n",
    "        for m in range(1, d+1):\n",
    "            summand = dc.Decimal(1.0)*bernoulli_num(2*m)/(dc.Decimal(2.0*m)*(dc.Decimal(2.0*m - 1.0)) * dc.Decimal(1.0*x)**dc.Decimal((2.0*m - 1.0)))\n",
    "            loggamma += summand\n",
    "        return loggamma\n",
    "    elif x == 0:\n",
    "        return np.inf\n",
    "    else:\n",
    "        print('No gamma of negative allowed here!')"
   ]
  },
  {
   "cell_type": "code",
   "execution_count": 229,
   "metadata": {},
   "outputs": [
    {
     "name": "stdout",
     "output_type": "stream",
     "text": [
      "4.7874917427820459719232453866060902013297019764171\n",
      "4.78749174278\n"
     ]
    },
    {
     "data": {
      "image/png": "[encoded data removed]",
      "text/plain": [
       "<matplotlib.figure.Figure at 0x7f92539d79b0>"
      ]
     },
     "metadata": {},
     "output_type": "display_data"
    }
   ],
   "source": [
    "test_val = 6\n",
    "print(custom_gammaln(test_val))\n",
    "print(sp.special.gammaln(test_val))\n",
    "\n",
    "lpl = []\n",
    "iss = []\n",
    "for i in range(5,25):\n",
    "    lpl.append(float(custom_gammaln(test_val, i)))\n",
    "    iss.append(i)\n",
    "\n",
    "plt.plot(iss, lpl, label = 'custom gammaln')\n",
    "plt.xlabel('degree of approximation')\n",
    "plt.ylabel('gammaln({})'.format(test_val))\n",
    "plt.plot(iss, np.full(len(iss),sp.special.gammaln(test_val)), label = 'scipy gammaln')\n",
    "plt.grid(True)\n",
    "plt.legend(loc = 'best')\n",
    "#plt.savefig('gammaln.pdf')\n",
    "plt.show()"
   ]
  },
  {
   "cell_type": "code",
   "execution_count": 185,
   "metadata": {},
   "outputs": [],
   "source": [
    "def logbinomial(a, b):\n",
    "    return sp.special.gammaln(a + 1) - sp.special.gammaln(b + 1) - sp.special.gammaln(a - b + 1)"
   ]
  },
  {
   "cell_type": "code",
   "execution_count": 186,
   "metadata": {},
   "outputs": [],
   "source": [
    "a = 0.0\n",
    "def pdf_beta(p, s, f):\n",
    "    return np.exp((s - 1 + a) * np.log(p) + (f - 1 + a) * np.log(1 - p) - sp.special.betaln(s + a, f + a))"
   ]
  },
  {
   "cell_type": "code",
   "execution_count": 187,
   "metadata": {},
   "outputs": [
    {
     "name": "stdout",
     "output_type": "stream",
     "text": [
      "12.1704786203\n",
      "12.1704786203\n",
      "12.170478620332385263127516046906469453677890264971\n",
      "12.170478620332393742527564972281787396370651278432\n",
      "Even partsum should not be smaller than odd partsum!\n"
     ]
    }
   ],
   "source": [
    "def custom_logsumexp(ns):\n",
    "    tmax = max(ns)\n",
    "    result = dc.Decimal(tmax) + dc.Decimal(sum([(dc.Decimal(i) - dc.Decimal(tmax)).exp() for i in ns])).ln()\n",
    "    return result\n",
    "\n",
    "al = [0.0, 4.8848981731984509, 7.8241012314455247, 9.6741296087975286, 10.704533647439149, 11.037382691690851, 10.729301060372364, 9.7964471384604792, 8.2206371424561837, 5.9432008100282303, 2.8399812234746662, -1.3607233547384965, -7.5176724998214297]\n",
    "bl = [2.8071942514172008, 6.5186945294646819, 8.8631993925812367, 10.282118981017135, 10.953501207710218, 10.961633037740995, 10.341291609075626, 9.0914655002535767, 7.1753444913208284, 4.5065775497486982, 0.9050001449514582, -4.0729900062196123]\n",
    "\n",
    "print(sp.special.logsumexp(al, b = 1))\n",
    "print(sp.special.logsumexp(bl, b = 1))\n",
    "print(custom_logsumexp(al))\n",
    "print(custom_logsumexp(bl))\n",
    "if custom_logsumexp(al)<custom_logsumexp(bl):\n",
    "    print('Even partsum should not be smaller than odd partsum!')\n",
    "else:\n",
    "    print('Everything fine!')"
   ]
  },
  {
   "cell_type": "code",
   "execution_count": 188,
   "metadata": {},
   "outputs": [],
   "source": [
    "def log_hyper_2F1_below_1(a1, a2, b1, b2, w):\n",
    "    log_results_even = []\n",
    "    log_results_odd = []\n",
    "    for n in range(int(b1)):\n",
    "        log_resu = logbinomial(b1 - 1 +a, n) + sp.special.gammaln(a1 + a2 + n +2*a) + sp.special.gammaln(a1 + a2 + b2 + 3*a) - sp.special.gammaln(a1 + a2 + b2 + n + 3*a) - sp.special.gammaln(a1 + a2 + 2*a) + n * np.log(w)\n",
    "        if is_even(n):\n",
    "            log_results_even.append(log_resu)\n",
    "        else:\n",
    "            log_results_odd.append(log_resu)\n",
    "    if len(log_results_odd) == 0:\n",
    "        log_results_odd_partsum = -np.inf\n",
    "    else:\n",
    "        log_results_odd_partsum = sp.special.logsumexp(log_results_odd)\n",
    "    if len(log_results_even) == 0:\n",
    "        log_results_even_partsum = -np.inf\n",
    "    else:\n",
    "        log_results_even_partsum = sp.special.logsumexp(log_results_even)\n",
    "    if log_results_odd_partsum > log_results_even_partsum:\n",
    "        print('Dang!')\n",
    "    log_result = sp.special.logsumexp([log_results_even_partsum, log_results_odd_partsum], b=[1,-1])\n",
    "    return log_result\n",
    "\n",
    "def log_hyper_2F1_above_1(a1, a2, b1, b2, w):\n",
    "    log_results_even = []\n",
    "    log_results_odd = []\n",
    "    for n in range(int(b2)):\n",
    "        log_resu = logbinomial(b2 - 1 +a, n) + sp.special.gammaln(a1 + a2 + n + 2*a) + sp.special.gammaln(a1 + a2 + b1 + 3*a) - sp.special.gammaln(a1 + a2 + b1 + n + 3*a) - sp.special.gammaln(a1 + a2 + 2*a) - n * np.log(w)\n",
    "        if is_even(n):\n",
    "            log_results_even.append(log_resu)\n",
    "        else:\n",
    "            log_results_odd.append(log_resu)\n",
    "    #print(log_results_even)\n",
    "    #print(log_results_odd)\n",
    "    if len(log_results_odd) == 0:\n",
    "        log_results_odd_partsum = -np.inf\n",
    "    else:\n",
    "        log_results_odd_partsum = sp.special.logsumexp(log_results_odd)\n",
    "    if len(log_results_even) == 0:\n",
    "        log_results_even_partsum = -np.inf\n",
    "    else:\n",
    "        log_results_even_partsum = sp.special.logsumexp(log_results_even)\n",
    "    if log_results_odd_partsum > log_results_even_partsum:\n",
    "        print('Dang!!!')\n",
    "    log_result = sp.special.logsumexp([log_results_even_partsum, log_results_odd_partsum], b=[1,-1])\n",
    "    return log_result"
   ]
  },
  {
   "cell_type": "code",
   "execution_count": 189,
   "metadata": {},
   "outputs": [],
   "source": [
    "def pdf_bb_ratio(a1, a2, b1, b2, w):\n",
    "    lnA = sp.special.betaln(a1, b1) + sp.special.betaln(a2, b2)\n",
    "    def pdf_calc(wi):\n",
    "        if wi < 0:\n",
    "            print('Ratio below Zero! Not reasonable!')\n",
    "            exit(1)\n",
    "        elif wi == 0:\n",
    "            resulti = 0\n",
    "        elif wi < 1:\n",
    "            resulti = np.exp(sp.special.betaln(a1 + a2, b2) + (a1 - 1) * np.log(wi) + log_hyper_2F1_below_1(a1, a2, b1, b2, wi) - lnA)\n",
    "        else:\n",
    "            resulti = np.exp(sp.special.betaln(a1 + a2, b1) - (1 + a2) * np.log(wi) + log_hyper_2F1_above_1(a1, a2, b1, b2, wi) - lnA)\n",
    "        return resulti\n",
    "    if isinstance(w, int) or isinstance(w, float):\n",
    "        result = pdf_calc(w)\n",
    "    else:\n",
    "        result = np.zeros(len(w))\n",
    "        for i in range(len(w)):\n",
    "            wi = w[i]\n",
    "            result[i] = pdf_calc(wi)\n",
    "    return result"
   ]
  },
  {
   "cell_type": "code",
   "execution_count": 190,
   "metadata": {},
   "outputs": [],
   "source": [
    "def log_hyper_3F2_below_1(a1, a2, b1, b2, w):\n",
    "    log_results_even = []\n",
    "    log_results_odd = []\n",
    "    for n in range(int(b1)):\n",
    "        log_resu = logbinomial(b1 - 1, n) + sp.special.gammaln(a1 + n) + sp.special.gammaln(a1 + a2 + n) + sp.special.gammaln(a1 + 1) + sp.special.gammaln(a1 + a2 + b2) - sp.special.gammaln(a1) - sp.special.gammaln(a1 + a2) - sp.special.gammaln(a1 + n + 1) - sp.special.gammaln(a1 + a2 + b2 + n) + n * np.log(w)\n",
    "        if is_even(n):\n",
    "            log_results_even.append(log_resu)\n",
    "        else:\n",
    "            log_results_odd.append(log_resu)\n",
    "    if len(log_results_odd) == 0:\n",
    "        log_results_odd_partsum = -np.inf\n",
    "    else:\n",
    "        log_results_odd_partsum = sp.special.logsumexp(log_results_odd)\n",
    "    if len(log_results_even) == 0:\n",
    "        log_results_even_partsum = -np.inf\n",
    "    else:\n",
    "        log_results_even_partsum = sp.special.logsumexp(log_results_even)\n",
    "    log_result = sp.special.logsumexp([log_results_even_partsum, log_results_odd_partsum], b = [1, -1])\n",
    "    return log_result\n",
    "\n",
    "def log_hyper_3F2_above_1(a1, a2, b1, b2, w):\n",
    "    log_results_even = []\n",
    "    log_results_odd = []\n",
    "    for n in range(int(b2)):\n",
    "        log_resu = logbinomial(b2 - 1, n) + sp.special.gammaln(a2 + n) + sp.special.gammaln(a1 + a2 + n) + sp.special.gammaln(a2 + 1) + sp.special.gammaln(a1 + a2 + b1) - sp.special.gammaln(a2) - sp.special.gammaln(a1 + a2) - sp.special.gammaln(a2 + n + 1) - sp.special.gammaln(a1 + a2 + b1 + n) - n * np.log(w)\n",
    "        if is_even(n):\n",
    "            log_results_even.append(log_resu)\n",
    "        else:\n",
    "            log_results_odd.append(log_resu)\n",
    "    if len(log_results_odd) == 0:\n",
    "        log_results_odd_partsum = -np.inf\n",
    "    else:\n",
    "        log_results_odd_partsum = sp.special.logsumexp(log_results_odd)\n",
    "    if len(log_results_even) == 0:\n",
    "        log_results_even_partsum = -np.inf\n",
    "    else:\n",
    "        log_results_even_partsum = sp.special.logsumexp(log_results_even)\n",
    "    log_result = sp.special.logsumexp([log_results_even_partsum, log_results_odd_partsum], b = [1, -1])\n",
    "    return log_result"
   ]
  },
  {
   "cell_type": "code",
   "execution_count": 191,
   "metadata": {},
   "outputs": [],
   "source": [
    "def cdf_bb_ratio(a1, a2, b1, b2, w):\n",
    "    lnA = sp.special.betaln(a1, b1) + sp.special.betaln(a2, b2)\n",
    "    def cum_pdf_calc(wi):\n",
    "        if wi < 0:\n",
    "            print('Ratio below Zero! Not reasonable!')\n",
    "            exit(1)\n",
    "        elif wi == 0:\n",
    "            resulti = 0\n",
    "        elif wi < 1:\n",
    "            resulti = np.exp(sp.special.betaln(a1 + a2, b2) + a1 * np.log(wi) - np.log(a1) + log_hyper_3F2_below_1(a1, a2, b1, b2, wi) - lnA)\n",
    "        else:\n",
    "            resulti = 1 - np.exp(sp.special.betaln(a1 + a2, b1) - a2 * np.log(wi) - np.log(a2) + log_hyper_3F2_above_1(a1, a2, b1, b2, wi) - lnA)\n",
    "        return resulti\n",
    "    if isinstance(w, int) or isinstance(w, float):\n",
    "        result = cum_pdf_calc(w)\n",
    "    else:\n",
    "        result = np.zeros(len(w))\n",
    "        for i in range(len(w)):\n",
    "            wi = w[i]\n",
    "            result[i] = cum_pdf_calc(wi)\n",
    "    return result"
   ]
  },
  {
   "cell_type": "markdown",
   "metadata": {},
   "source": [
    "Expectation value of fraction a/b: $E(\\frac{a}{b}) = E(a)\\cdot E(b^{-1})$\n",
    "\n",
    "with $E(a) = \\frac{a_1}{a_1+b_1}$\n",
    "\n",
    "and $E(b^{-1}) = \\int_{-\\infty}^{\\infty}\\frac{b^{a_2-2} (1-b)^{b_2-1}}{B(a_2-1, b_2) \\left(\\frac{a_2-1}{a_2+b_2-1}\\right)}\\,\\mathrm{d}b = \\frac{a_2+b_2-1}{a_2-1}$\n",
    "\n",
    "$\\Rightarrow E(\\frac{a}{b}) = \\frac{a_1\\cdot(a_2+b_2-1)}{(a_1+b_1)\\cdot(a_2-1)}$"
   ]
  },
  {
   "cell_type": "code",
   "execution_count": 192,
   "metadata": {},
   "outputs": [
    {
     "name": "stderr",
     "output_type": "stream",
     "text": [
      "/usr/local/lib/python3.5/dist-packages/ipykernel_launcher.py:3: RuntimeWarning: divide by zero encountered in log\n",
      "  This is separate from the ipykernel package so we can avoid doing imports until\n",
      "/usr/local/lib/python3.5/dist-packages/ipykernel_launcher.py:3: RuntimeWarning: invalid value encountered in log\n",
      "  This is separate from the ipykernel package so we can avoid doing imports until\n"
     ]
    },
    {
     "data": {
      "image/png": "[encoded data removed]",
      "text/plain": [
       "<matplotlib.figure.Figure at 0x7f925398b9e8>"
      ]
     },
     "metadata": {},
     "output_type": "display_data"
    }
   ],
   "source": [
    "v = np.linspace(0,1.75,1751)\n",
    "a1 = 9\n",
    "b1 = 9\n",
    "a2 = 26\n",
    "b2 = 14\n",
    "pdf1 = pdf_beta(v, a1, b1)\n",
    "pdf2 = pdf_beta(v, a2, b2)\n",
    "ratio_pdf = pdf_bb_ratio(a1, a2, b1, b2, v)\n",
    "ratio_cdf = cdf_bb_ratio(a1, a2, b1, b2, v)\n",
    "plt.plot(v, pdf1, label = 'PDF 1 (a1 = {}, b1 = {})'.format(a1, b1))\n",
    "plt.plot(v, pdf2, label = 'PDF 2 (a2 = {}, b2 = {})'.format(a2, b2))\n",
    "plt.plot(v, ratio_pdf, label = 'ratio PDF')\n",
    "plt.plot(v, ratio_cdf, label = 'ratio CDF')\n",
    "\n",
    "expect_value = (a1*(a2+b2-1))/((a1+b1)*(a2-1))\n",
    "\n",
    "#plt.axvline(x = (a1/(a1+b1))/(a2/(a2+b2)), linewidth = 1.25, color = 'purple', linestyle = '-.', label = 'Naive ({})'.format((a1/(a1+b1))/(a2/(a2+b2))), alpha = .5)\n",
    "plt.axvline(x = expect_value, linewidth = 1.5, color = 'green', linestyle = '--', label = 'Expectation value ({})'.format(expect_value))\n",
    "\n",
    "plt.grid(True)\n",
    "plt.legend(loc = 'best', fontsize = 'large')\n",
    "plt.show()"
   ]
  },
  {
   "cell_type": "code",
   "execution_count": null,
   "metadata": {},
   "outputs": [],
   "source": []
  }
 ],
 "metadata": {
  "kernelspec": {
   "display_name": "Python 3",
   "language": "python",
   "name": "python3"
  },
  "language_info": {
   "codemirror_mode": {
    "name": "ipython",
    "version": 3
   },
   "file_extension": ".py",
   "mimetype": "text/x-python",
   "name": "python",
   "nbconvert_exporter": "python",
   "pygments_lexer": "ipython3",
   "version": "3.5.2"
  }
 },
 "nbformat": 4,
 "nbformat_minor": 2
}
