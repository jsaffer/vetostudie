{
 "cells": [
  {
   "cell_type": "markdown",
   "metadata": {},
   "source": [
    "# Tow approaches to passing ratio of mDOM to pDOM"
   ]
  },
  {
   "cell_type": "markdown",
   "metadata": {},
   "source": [
    "Passing ratio is defined by $\\frac{1-\\eta_{mDOM}}{1-\\eta_{pDOM}}$ with $\\eta_x$ to veto efficiency of Optical Module $x$."
   ]
  },
  {
   "cell_type": "code",
   "execution_count": 229,
   "metadata": {},
   "outputs": [],
   "source": [
    "%matplotlib inline\n",
    "import numpy as np\n",
    "import scipy as sp\n",
    "from scipy import special\n",
    "import matplotlib.pyplot as plt\n",
    "#import warnings\n",
    "#warnings.filterwarnings('ignore')"
   ]
  },
  {
   "cell_type": "markdown",
   "metadata": {},
   "source": [
    "Custom logsumexp function from Thorsten:"
   ]
  },
  {
   "cell_type": "code",
   "execution_count": 230,
   "metadata": {},
   "outputs": [],
   "source": [
    "import decimal as dc\n",
    "\n",
    "#decimal.getcontext().prec = 100\n",
    "\n",
    "def custom_logsumexp_high_prec(logs, signs):\n",
    "    positive_mask = signs > 0\n",
    "\n",
    "    #print type(positive_mask)\n",
    "    #print numpy.array(logs)\n",
    "    positive_logs = np.array(logs)[positive_mask]\n",
    "    negative_logs = np.array(logs)[positive_mask == False]\n",
    "    res_pos = dc.Decimal(0.0)\n",
    "    res_neg = None\n",
    "    if(len(positive_logs) > 0):\n",
    "        res_pos = dc.Decimal(max(positive_logs)) + dc.Decimal(sum([dc.Decimal(i - max(positive_logs)).exp() for i in positive_logs])).ln()\n",
    "        \n",
    "    if(len(negative_logs) > 0):\n",
    "        res_neg = dc.Decimal(max(negative_logs)) + dc.Decimal(sum([dc.Decimal(i - max(negative_logs)).exp() for i in negative_logs])).ln()\n",
    "           \n",
    "    #print \"repos/resneg\", res_pos, res_neg\n",
    "    \n",
    "    if(res_neg is None):\n",
    "        \n",
    "        return res_pos, 1.0\n",
    "   \n",
    "    if(res_pos == res_neg):\n",
    "        print(\"not enough precision!!!...\")\n",
    "        exit(-1)\n",
    "        return None, None\n",
    "    elif(res_pos == res_neg and res_pos == 0):\n",
    "        print(\"0?!\")\n",
    "        print(logs)\n",
    "        exit(-1)\n",
    "    if(res_neg < res_pos):\n",
    "        #print(\"neg < pos\")\n",
    "        ## easy case .. subtracted number is smaller \n",
    "        return res_neg + ((res_pos - res_neg).exp() - 1).ln(), 1.0\n",
    "    else:\n",
    "        ## A-B < 0 -> A-B = - (B-A) \n",
    "        return res_pos + ((res_neg - res_pos).exp() - 1).ln(), -1.0"
   ]
  },
  {
   "cell_type": "markdown",
   "metadata": {},
   "source": [
    "Function checking if number is even."
   ]
  },
  {
   "cell_type": "code",
   "execution_count": 231,
   "metadata": {},
   "outputs": [],
   "source": [
    "def is_even(num):\n",
    "    return num % 2 == 0"
   ]
  },
  {
   "cell_type": "markdown",
   "metadata": {},
   "source": [
    "Function giving logarithm of binomial coefficient (a take b)."
   ]
  },
  {
   "cell_type": "code",
   "execution_count": 232,
   "metadata": {},
   "outputs": [],
   "source": [
    "def binomln(a, b):\n",
    "    return sp.special.gammaln(a+1) - sp.special.gammaln(b+1) - sp.special.gammaln(a-b+1)"
   ]
  },
  {
   "cell_type": "markdown",
   "metadata": {},
   "source": [
    "Function giving for a set of veto efficiencies ($\\texttt{etas}$) and set of #veto hits ($\\texttt{v}$) and # all hits ($\\texttt{a}$) the beta distribution of $\\eta$."
   ]
  },
  {
   "cell_type": "code",
   "execution_count": 233,
   "metadata": {},
   "outputs": [],
   "source": [
    "def prob_dist_beta(eta, v, a):\n",
    "    return np.exp((v-1)*np.log(eta) + (a-v-1)*np.log(1-eta) - (sp.special.betaln(v, a-v)))"
   ]
  },
  {
   "cell_type": "markdown",
   "metadata": {},
   "source": [
    "Convert number to integer"
   ]
  },
  {
   "cell_type": "code",
   "execution_count": 234,
   "metadata": {},
   "outputs": [],
   "source": [
    "def con_int(val):\n",
    "    if isinstance(val, int) or isinstance(val, float):\n",
    "        con_val = int(val)\n",
    "        return con_val\n",
    "    else:\n",
    "        print('Something wrong! hit paramters should be integers or floats!')\n",
    "        exit(0)"
   ]
  },
  {
   "cell_type": "markdown",
   "metadata": {},
   "source": [
    "## <font color='orange'>Analytical approach</font>\n",
    "The two cases ($0<w\\leq1$ and $w\\geq1$) of hypergeometric functions that will be used below ($1 - \\beta_i$ are non-positive). (see page 40, Yudell L. Luke, 1969)\n",
    "\n",
    "${}_2F_1(\\alpha_1 + \\alpha_2, 1-\\beta_1; \\alpha_1 + \\alpha_2 + \\beta_2; w) = \\sum_{n=0}^{\\beta_1-1}(-1)^n \\begin{pmatrix} \\beta_1-1 \\\\ n\\end{pmatrix} \\frac{(\\alpha_1+\\alpha_2+n-1)!\\cdot(\\alpha_1+\\alpha_2+\\beta_2-1)!}{(\\alpha_1+\\alpha_2+\\beta_2+n-1)!\\cdot(\\alpha_1+\\alpha_2-1)!} w^n$ for $w<1$\n",
    "\n",
    "${}_2F_1(\\alpha_1 + \\alpha_2, 1-\\beta_2; \\alpha_1 + \\alpha_2 + \\beta_1; \\frac{1}{w}) = \\sum_{n=0}^{\\beta_2-1}(-1)^n \\begin{pmatrix} \\beta_2-1 \\\\ n\\end{pmatrix} \\frac{(\\alpha_1+\\alpha_2+n-1)!\\cdot(\\alpha_1+\\alpha_2+\\beta_1-1)!}{(\\alpha_1+\\alpha_2+\\beta_1+n-1)!\\cdot(\\alpha_1+\\alpha_2-1)!} \\left(\\frac{1}{w}\\right)^n$ for $w\\geq1$\n",
    "\n",
    "The results for even and odd $n$ are stored separated and substracted in the end each. For purpose of further implementation define the $\\log({_2F_1})$."
   ]
  },
  {
   "cell_type": "code",
   "execution_count": 235,
   "metadata": {},
   "outputs": [],
   "source": [
    "def log_hyper_2_F_1_below_1(a1, a2, b1, b2, w):\n",
    "    a1, a2, b1, b2 = con_int(a1), con_int(a2), con_int(b1), con_int(b2)\n",
    "    ln_results_even = np.array([])\n",
    "    ln_results_odd = np.array([])\n",
    "    for n in range(b1):\n",
    "        ln_resu = binomln(b1-1, n) + sp.special.gammaln(a1+a2+n) + sp.special.gammaln(a1+a2+b2) - sp.special.gammaln(a1+a2+b2+n) - sp.special.gammaln(a1+a2) + n * np.log(w)\n",
    "        if is_even(n):\n",
    "            ln_results_even = np.append(ln_results_even, ln_resu)\n",
    "        else:\n",
    "            ln_results_odd = np.append(ln_results_odd, ln_resu)\n",
    "    if len(ln_results_odd) == 0:\n",
    "        ln_results_odd_partsum = -np.inf\n",
    "    else:\n",
    "        #ln_results_odd_partsum = sp.special.logsumexp(ln_results_odd)\n",
    "        ln_results_odd_partsum = custom_logsumexp_high_prec(ln_results_odd, np.ones_like(ln_results_odd))[0]\n",
    "    #ln_results_even_partsum = sp.special.logsumexp(ln_results_even)\n",
    "    ln_results_even_partsum = custom_logsumexp_high_prec(ln_results_even, np.ones_like(ln_results_even))[0]\n",
    "    #ln_result = sp.special.logsumexp([ln_results_even_partsum, ln_results_odd_partsum], b=[1,-1])\n",
    "    ln_result = float(custom_logsumexp_high_prec(np.array([ln_results_even_partsum, ln_results_odd_partsum]), np.array([1, -1]))[0])\n",
    "    return ln_result\n",
    "\n",
    "def log_hyper_2_F_1_above_1(a1, a2, b1, b2, w):\n",
    "    a1, a2, b1, b2 = con_int(a1), con_int(a2), con_int(b1), con_int(b2)\n",
    "    ln_results_even = np.array([])\n",
    "    ln_results_odd = np.array([])\n",
    "    for n in range(b2):\n",
    "        ln_resu = binomln(b2-1, n) + sp.special.gammaln(a1+a2+n) + sp.special.gammaln(a1+a2+b1) - sp.special.gammaln(a1+a2+b1+n) - sp.special.gammaln(a1+a2) - n * np.log(w)\n",
    "        if is_even(n):\n",
    "            ln_results_even = np.append(ln_results_even, ln_resu)\n",
    "        else:\n",
    "            ln_results_odd = np.append(ln_results_odd, ln_resu)\n",
    "    if len(ln_results_odd) == 0:\n",
    "        ln_results_odd_partsum = -np.inf\n",
    "    else:\n",
    "        ln_results_odd_partsum = custom_logsumexp_high_prec(ln_results_odd, np.ones_like(ln_results_odd))[0]\n",
    "        #ln_results_odd_partsum = sp.special.logsumexp(ln_results_odd)\n",
    "    #ln_results_even_partsum = sp.special.logsumexp(ln_results_even)\n",
    "    ln_results_even_partsum = custom_logsumexp_high_prec(ln_results_even, np.ones_like(ln_results_even))[0]\n",
    "    #ln_result = sp.special.logsumexp([ln_results_even_partsum, ln_results_odd_partsum], b=[1,-1])\n",
    "    ln_result = float(custom_logsumexp_high_prec(np.array([ln_results_even_partsum, ln_results_odd_partsum]), np.array([1, -1]))[0])\n",
    "    return ln_result"
   ]
  },
  {
   "cell_type": "markdown",
   "metadata": {},
   "source": [
    "Visualization of strange behaviour of hypergeometric function for large numbers near w=1"
   ]
  },
  {
   "cell_type": "code",
   "execution_count": 236,
   "metadata": {},
   "outputs": [
    {
     "data": {
      "image/png": "[encoded data removed]",
      "text/plain": [
       "<matplotlib.figure.Figure at 0x7f623136a2b0>"
      ]
     },
     "metadata": {},
     "output_type": "display_data"
    }
   ],
   "source": [
    "iu = np.linspace(0.95, 1.05, 1001)\n",
    "a1 = 44\n",
    "a2 = 47\n",
    "b1 = 59\n",
    "b2 = 56\n",
    "piub = [np.exp(log_hyper_2_F_1_below_1(a1, a2, b1, b2, viu)) for viu in iu]\n",
    "piua = [np.exp(log_hyper_2_F_1_above_1(a1, a2, b1, b2, viu)) for viu in iu]\n",
    "\n",
    "plt.rcParams['figure.figsize'] = (12, 4)\n",
    "plt.title('Demostation of strange behavior of hypergeometric function near 1')\n",
    "plt.plot(iu, piub)\n",
    "plt.plot(iu, piua)\n",
    "plt.show()"
   ]
  },
  {
   "cell_type": "markdown",
   "metadata": {},
   "source": [
    "Test for the 'w=1' case. There actually both values of the two cases should give the same results since the distribution is assumed to be continuous."
   ]
  },
  {
   "cell_type": "code",
   "execution_count": 237,
   "metadata": {},
   "outputs": [
    {
     "name": "stdout",
     "output_type": "stream",
     "text": [
      "0.0\n"
     ]
    }
   ],
   "source": [
    "''' Test for the w=1 case'''\n",
    "a1, a2, b1, b2, wi = 52, 56, 70, 70, 1\n",
    "lnA = sp.special.betaln(a1, b1) + sp.special.betaln(a2, b2)\n",
    "aa = np.exp(sp.special.betaln(a1+a2, b2) + (a1-1) * np.log(wi) + log_hyper_2_F_1_below_1(a1, a2, b1, b2, wi) - lnA)\n",
    "bb = np.exp(sp.special.betaln(a1+a2, b1) - (a2+1) * np.log(wi) + log_hyper_2_F_1_above_1(a1, a2, b1, b2, wi) - lnA)\n",
    "if aa != bb:\n",
    "    print('Argh!')\n",
    "print(aa - bb)"
   ]
  },
  {
   "cell_type": "markdown",
   "metadata": {},
   "source": [
    "Here, finally, apply the hypergeometric functions in the quotien distribution (see T. Pham-Gia, 2000):\n",
    "\n",
    "$f(w) = B(\\alpha_1 + \\alpha_2, \\beta_2) \\cdot w^{\\alpha_1 - 1} \\cdot \\frac{{}_2F_1(\\alpha_1 + \\alpha_2, 1 - \\beta_1; \\alpha_1 + \\alpha_2 + \\beta_2; w)}{B(\\alpha_1, \\beta_1) \\cdot B(\\alpha_2, \\beta_2)}$ for $0 < w \\leq 1$\n",
    "\n",
    "$f(w) = B(\\alpha_1 + \\alpha_2, \\beta_1) \\cdot w^{-(1 + \\alpha_2)} \\cdot \\frac{{}_2F_1(\\alpha_1 + \\alpha_2, 1 - \\beta_2; \\alpha_1 + \\alpha_2 + \\beta_1; \\frac{1}{w})}{B(\\alpha_1, \\beta_1) \\cdot B(\\alpha_2, \\beta_2)}$ for $w \\geq 1$"
   ]
  },
  {
   "cell_type": "code",
   "execution_count": 238,
   "metadata": {},
   "outputs": [],
   "source": [
    "def pdf_ratio(a1, a2, b1, b2, w):\n",
    "    lnA = sp.special.betaln(a1, b1) + sp.special.betaln(a2, b2)\n",
    "    def pdf_calc(wi):\n",
    "        if wi < 0:\n",
    "            print('Ratio below Zero! Not reasonable!')\n",
    "            exit(0)\n",
    "        elif wi == 0:\n",
    "            resulti = 0\n",
    "        elif wi < 1:\n",
    "            resulti = np.exp(sp.special.betaln(a1+a2, b2) + (a1-1) * np.log(wi) + log_hyper_2_F_1_below_1(a1, a2, b1, b2, wi) - lnA)\n",
    "        else:\n",
    "            resulti = np.exp(sp.special.betaln(a1+a2, b1) - (1+a2) * np.log(wi) + log_hyper_2_F_1_above_1(a1, a2, b1, b2, wi) - lnA)\n",
    "        return resulti\n",
    "    if isinstance(w, int) or isinstance(w, float):\n",
    "        result = pdf_calc(w)\n",
    "    else:\n",
    "        result = np.zeros(len(w))\n",
    "        for j in range(len(w)):\n",
    "            wj = w[j]\n",
    "            result[j] = pdf_calc(wj)\n",
    "    return result"
   ]
  },
  {
   "cell_type": "markdown",
   "metadata": {},
   "source": [
    "Change the argument, such that $\\texttt{veto hits}$ and $\\texttt{all hits}$ give the distribution of the passing fraction $\\frac{1-\\frac{v_1}{a_1}}{1-\\frac{v_2}{a_2}}$. In practice $a_1 = a_2$."
   ]
  },
  {
   "cell_type": "code",
   "execution_count": 239,
   "metadata": {},
   "outputs": [],
   "source": [
    "def custom_pdf_ratio(v1, v2, a1, a2, w):\n",
    "    '''vi / ai here are the number of vetoed / all events for module i'''\n",
    "    return pdf_ratio(a1-v1, a2-v2, v1, v2, w)"
   ]
  },
  {
   "cell_type": "markdown",
   "metadata": {},
   "source": [
    "For the cumulative distribution I need the hypergeometric $_3F_2$ function:"
   ]
  },
  {
   "cell_type": "code",
   "execution_count": 240,
   "metadata": {},
   "outputs": [],
   "source": [
    "def log_hyper_3_F_2_below_1(a1, a2, b1, b2, w):\n",
    "    a1, a2, b1, b2 = con_int(a1), con_int(a2), con_int(b1), con_int(b2)\n",
    "    ln_results_even = np.array([])\n",
    "    ln_results_odd = np.array([])\n",
    "    for n in range(b1):\n",
    "        ln_resu = binomln(b1-1, n) + sp.special.gammaln(a1+n) + sp.special.gammaln(a1+a2+n) + sp.special.gammaln(a1+1) + sp.special.gammaln(a1+a2+b2) - sp.special.gammaln(a1) - sp.special.gammaln(a1+a2) - sp.special.gammaln(a1+n+1) - sp.special.gammaln(a1+a2+b2+n) + n * np.log(w)\n",
    "        if is_even(n):\n",
    "            ln_results_even = np.append(ln_results_even, ln_resu)\n",
    "        else:\n",
    "            ln_results_odd = np.append(ln_results_odd, ln_resu)\n",
    "    if len(ln_results_odd) == 0:\n",
    "        ln_results_odd_partsum = -np.inf\n",
    "    else:\n",
    "        ln_results_odd_partsum = sp.special.logsumexp(ln_results_odd)\n",
    "    ln_results_even_partsum = sp.special.logsumexp(ln_results_even)\n",
    "    ln_result = sp.special.logsumexp([ln_results_even_partsum, ln_results_odd_partsum], b = [1, -1])\n",
    "    return ln_result\n",
    "\n",
    "def log_hyper_3_F_2_above_1(a1, a2, b1, b2, w):\n",
    "    a1, a2, b1, b2 = con_int(a1), con_int(a2), con_int(b1), con_int(b2)\n",
    "    ln_results_even = np.array([])\n",
    "    ln_results_odd = np.array([])\n",
    "    for n in range(b2):\n",
    "        ln_resu = binomln(b2-1, n) + sp.special.gammaln(a2+n) + sp.special.gammaln(a1+a2+n) + sp.special.gammaln(a2+1) + sp.special.gammaln(a1+a2+b1) - sp.special.gammaln(a2) - sp.special.gammaln(a1+a2) - sp.special.gammaln(a2+n+1) - sp.special.gammaln(a1+a2+b1+n) - n * np.log(w)\n",
    "        if is_even(n):\n",
    "            ln_results_even = np.append(ln_results_even, ln_resu)\n",
    "        else:\n",
    "            ln_results_odd = np.append(ln_results_odd, ln_resu)\n",
    "    if len(ln_results_odd) == 0:\n",
    "        ln_results_odd_partsum = -np.inf\n",
    "    else:\n",
    "        ln_results_odd_partsum = sp.special.logsumexp(ln_results_odd)\n",
    "    ln_results_even_partsum = sp.special.logsumexp(ln_results_even)\n",
    "    ln_result = sp.special.logsumexp([ln_results_even_partsum, ln_results_odd_partsum], b = [1, -1])\n",
    "    return ln_result"
   ]
  },
  {
   "cell_type": "markdown",
   "metadata": {},
   "source": [
    "The integral of the quotient distribution given above. Here I need to use\n",
    "\n",
    "$\\int w^{a_1 - 1} {}_2F_1(a_1 + a_2, 1 - b_1; a_1 + a_2 + b_2; w)\\,\\mathrm{d}w = \\frac{w^{a_1}}{a_1}\\cdot {}_3F_2(a_1, a_1 + a_2, 1 - b_1; a_1 + 1, a_1 + a_2 + b_2; w)$\n",
    "\n",
    "and\n",
    "\n",
    "$\\int w^{-(1 + a_2)} {}_2F_1(a_1 + a_2, 1 - b_2; a_1 + a_2 + b_1; \\frac{1}{w})\\,\\mathrm{d}w = -\\frac{w^{-a_2}}{a_2}\\cdot {}_3F_2(a_2, a_1 + a_2, 1 - b_2; a_2 + 1, a_1 + a_2 + b_1; \\frac{1}{w})$"
   ]
  },
  {
   "cell_type": "code",
   "execution_count": 241,
   "metadata": {},
   "outputs": [],
   "source": [
    "def cumulative_pdf_ratio(a1, a2, b1, b2, w):\n",
    "    lnA = sp.special.betaln(a1, b1) + sp.special.betaln(a2, b2)\n",
    "    def cum_pdf_calc(wi):\n",
    "        if wi < 0:\n",
    "            print('Ratio below Zero! Not reasonable!')\n",
    "            exit(0)\n",
    "        elif wi == 0:\n",
    "            resulti = 0\n",
    "        elif wi < 1:\n",
    "            resulti = np.exp(sp.special.betaln(a1+a2, b2) + a1 * np.log(wi) - np.log(a1) + log_hyper_3_F_2_below_1(a1, a2, b1, b2, wi) - lnA)\n",
    "        else:\n",
    "            resulti = 1 - np.exp(sp.special.betaln(a1+a2, b1) - a2 * np.log(wi) - np.log(a2) + log_hyper_3_F_2_above_1(a1, a2, b1, b2, wi) - lnA)\n",
    "        return resulti\n",
    "    if isinstance(w, int) or isinstance(w, float):\n",
    "        result = cum_pdf_calc(w)\n",
    "    else:\n",
    "        result = np.zeros(len(w))\n",
    "        for j in range(len(w)):\n",
    "            wj = w[j]\n",
    "            result[j] = cum_pdf_calc(wj)\n",
    "    return result"
   ]
  },
  {
   "cell_type": "markdown",
   "metadata": {},
   "source": [
    "Change the argument, such that $\\texttt{veto hits}$ and $\\texttt{all hits}$ give the distribution of the passing fraction $\\frac{1-\\frac{v_1}{a_1}}{1-\\frac{v_2}{a_2}}$. In practice $a_1 = a_2$."
   ]
  },
  {
   "cell_type": "code",
   "execution_count": 242,
   "metadata": {},
   "outputs": [],
   "source": [
    "def custom_cumulative_pdf_ratio(v1, v2, a1, a2, w):\n",
    "    '''vi / ai here are the number of vetoed / all events for module i'''\n",
    "    return cumulative_pdf_ratio(a1-v1, a2-v2, v1, v2, w)"
   ]
  },
  {
   "cell_type": "code",
   "execution_count": 243,
   "metadata": {
    "scrolled": false
   },
   "outputs": [
    {
     "data": {
      "image/png": "[encoded data removed]",
      "text/plain": [
       "<matplotlib.figure.Figure at 0x7f62313bdbe0>"
      ]
     },
     "metadata": {},
     "output_type": "display_data"
    }
   ],
   "source": [
    "asd = np.linspace(0, 10, 101)\n",
    "casd = cumulative_pdf_ratio(3, 4, 7, 6, asd)\n",
    "plt.title('Cumulative distribution of the quotient probability distribution for two beta-distributed random variables')\n",
    "plt.plot(asd, casd, label = 'C.D.F.')\n",
    "plt.grid('true')\n",
    "plt.legend(loc = 'best')\n",
    "#plt.savefig('cdf.png')\n",
    "plt.show()"
   ]
  },
  {
   "cell_type": "markdown",
   "metadata": {},
   "source": [
    "So far all the definitions and tests.\n",
    "\n",
    "---------------------------------------------------------------------------------------------------------------\n",
    "---------------------------------------------------------------------------------------------------------------\n",
    "\n",
    "Now the application."
   ]
  },
  {
   "cell_type": "markdown",
   "metadata": {},
   "source": [
    "On a certain interval (e.g. [0, 3]) plot the quotient distribution with indicated expected mean (from raw calculation $\\frac{1-\\frac{v_1}{a_1}}{1-\\frac{v_2}{a_2}}$) and directly obtained mean (via integrating the distribution)."
   ]
  },
  {
   "cell_type": "code",
   "execution_count": 244,
   "metadata": {},
   "outputs": [],
   "source": [
    "n_veto_hits_mdom = 2\n",
    "n_veto_hits_pdom = 4\n",
    "n_hits = 6"
   ]
  },
  {
   "cell_type": "code",
   "execution_count": 254,
   "metadata": {
    "scrolled": true
   },
   "outputs": [
    {
     "name": "stdout",
     "output_type": "stream",
     "text": [
      "Expectation value via integration: 1.6836010664\n",
      "Naively expected value: 2.0\n"
     ]
    },
    {
     "data": {
      "image/png": "[encoded data removed]",
      "text/plain": [
       "<matplotlib.figure.Figure at 0x7f623132a2b0>"
      ]
     },
     "metadata": {},
     "output_type": "display_data"
    }
   ],
   "source": [
    "w = np.linspace(0, 3, 501)\n",
    "p = custom_pdf_ratio(n_veto_hits_mdom, n_veto_hits_pdom, n_hits, n_hits, w)\n",
    "mode_val = max(p)\n",
    "mode_mask = np.array([val == mode_val for val in p])\n",
    "mode = float(w[mode_mask])\n",
    "\n",
    "cp = custom_cumulative_pdf_ratio(n_veto_hits_mdom, n_veto_hits_pdom, n_hits, n_hits, w)\n",
    "# scale down cp\n",
    "cp_scaled = cp / 100\n",
    "norm = np.nansum(p)\n",
    "p = p/norm\n",
    "\n",
    "expect_analytic = np.dot(w, p)\n",
    "print('Expectation value via integration: ' + str(expect_analytic))\n",
    "\n",
    "naive_expect = (n_hits - n_veto_hits_mdom)/(n_hits - n_veto_hits_pdom)\n",
    "print('Naively expected value: ' + str(naive_expect))\n",
    "\n",
    "expect_pass_frac = ((n_hits - n_veto_hits_mdom)*(n_hits - 1)/(n_hits*(n_hits - n_veto_hits_pdom - 1)))\n",
    "\n",
    "plt.plot(w, p, label = 'P.D.F.')\n",
    "#plt.plot(w, cp_scaled, label = '0.01 * C.D.F.')\n",
    "plt.rcParams['figure.figsize'] = (12, 4)\n",
    "plt.grid(True)\n",
    "plt.title('Analytical approach')\n",
    "plt.axvline(x = naive_expect, linewidth = 1.25, color = 'red', linestyle = '--', label = 'Naive value')\n",
    "plt.axvline(x = expect_analytic, linewidth = 1.5, color = 'orange', label = 'Expectation value via integration')\n",
    "plt.axvline(x = expect_pass_frac, linewidth = 1.25, color = 'k', label = 'Expectation value from calculation')\n",
    "plt.legend(loc = 'best')\n",
    "plt.show()"
   ]
  },
  {
   "cell_type": "markdown",
   "metadata": {},
   "source": [
    "## <font color='orange'>Numerical approach</font>"
   ]
  },
  {
   "cell_type": "markdown",
   "metadata": {},
   "source": [
    "Remove 0- and 1- bin due to problems of beta distribution."
   ]
  },
  {
   "cell_type": "code",
   "execution_count": 246,
   "metadata": {},
   "outputs": [],
   "source": [
    "res = 1000\n",
    "\n",
    "n_veto_hits_mdom = float(n_veto_hits_mdom)\n",
    "n_veto_hits_pdom = float(n_veto_hits_pdom)\n",
    "n_hits = float(n_hits)\n",
    "\n",
    "veto_efficiency_mdom = n_veto_hits_mdom / n_hits\n",
    "veto_efficiency_pdom = n_veto_hits_pdom / n_hits\n",
    "\n",
    "e = np.linspace(0, 1, res + 1)\n",
    "e = e[1:-1]\n",
    "\n",
    "p_mdom = np.array([prob_dist_beta(ei, n_veto_hits_mdom, n_hits) for ei in e])\n",
    "p_pdom = np.array([prob_dist_beta(ei, n_veto_hits_pdom, n_hits) for ei in e])\n",
    "\n",
    "p_inv_mdom = np.array([prob_dist_beta(1.0-ei, n_veto_hits_mdom, n_hits) for ei in e])\n",
    "p_inv_pdom = np.array([prob_dist_beta(1.0-ei, n_veto_hits_pdom, n_hits) for ei in e])"
   ]
  },
  {
   "cell_type": "markdown",
   "metadata": {},
   "source": [
    "Numerical procedure calculating the 90% errors on veto efficiencies of pDOM and mDOM. Then calculating the maximal possible (and over-estimated) error ($[\\frac{1-\\eta_{mDOM}-\\Delta_{mDOM\\downarrow}}{1-\\eta_{pDOM}+\\Delta_{pDOM\\uparrow}}, \\frac{1-\\eta_{mDOM}+\\Delta_{mDOM\\uparrow}}{1-\\eta_{pDOM}-\\Delta_{pDOM\\downarrow}}]$)."
   ]
  },
  {
   "cell_type": "code",
   "execution_count": 252,
   "metadata": {},
   "outputs": [
    {
     "name": "stdout",
     "output_type": "stream",
     "text": [
      "<class 'numpy.ndarray'>\n"
     ]
    },
    {
     "name": "stderr",
     "output_type": "stream",
     "text": [
      "/usr/local/lib/python3.5/dist-packages/ipykernel_launcher.py:2: RuntimeWarning: divide by zero encountered in log\n",
      "  \n"
     ]
    }
   ],
   "source": [
    "error_size = 0.9\n",
    "step_size = 0.0001 # for better precision 0.00001 or even smaller\n",
    "\n",
    "def num_error(eta, vetohits, nhits = n_hits, errorsize = error_size, stepsize = step_size):\n",
    "    if eta < 0.5:\n",
    "        low = 0.0\n",
    "        top = 1.0 - stepsize\n",
    "    elif eta >= 0.5:\n",
    "        low = 0.0 + stepsize\n",
    "        top = 1.0\n",
    "\n",
    "    interval = 1.0\n",
    "\n",
    "    while interval >= errorsize:\n",
    "        low_p = prob_dist_beta(low, vetohits, nhits)\n",
    "        top_p = prob_dist_beta(top, vetohits, nhits)\n",
    "        low_cp = sp.special.betainc(vetohits+1, nhits-vetohits+1, low)\n",
    "        top_cp = sp.special.betainc(vetohits+1, nhits-vetohits+1, top)\n",
    "        interval = top_cp - low_cp\n",
    "        if low_p > top_p:\n",
    "            top = top - stepsize\n",
    "        else:\n",
    "            low = low + stepsize\n",
    "    return low, top\n",
    "\n",
    "low_pdom, top_pdom = num_error(veto_efficiency_pdom, n_veto_hits_pdom)\n",
    "low_mdom, top_mdom = num_error(veto_efficiency_mdom, n_veto_hits_mdom)\n",
    "        \n",
    "delta_low_pdom = veto_efficiency_pdom - low_pdom\n",
    "delta_top_pdom = top_pdom - veto_efficiency_pdom\n",
    "delta_low_mdom = veto_efficiency_mdom - low_mdom\n",
    "delta_top_mdom = top_mdom - veto_efficiency_mdom\n",
    "\n",
    "ratio = (1-veto_efficiency_mdom)/(1-veto_efficiency_pdom)\n",
    "over_error_top = (1-low_mdom)/(1-top_pdom)\n",
    "over_error_low = (1-top_mdom)/(1-low_pdom)"
   ]
  },
  {
   "cell_type": "markdown",
   "metadata": {},
   "source": [
    "Same procedure for the passing fraction error"
   ]
  },
  {
   "cell_type": "code",
   "execution_count": 255,
   "metadata": {},
   "outputs": [
    {
     "name": "stdout",
     "output_type": "stream",
     "text": [
      "0.3531000000001112 6.170599999999092\n"
     ]
    }
   ],
   "source": [
    "def pass_frac_num_error(start, nvetohitsmdom = n_veto_hits_mdom, nvetohitspdom = n_veto_hits_pdom, nhits = n_hits, errorsize = error_size, stepsize = step_size):\n",
    "    if start == 0:\n",
    "        low = 0\n",
    "    else:\n",
    "        low = start - stepsize\n",
    "    top = start + stepsize\n",
    "    \n",
    "    interval = 0.0\n",
    "    \n",
    "    while interval < errorsize:\n",
    "        low_p = custom_pdf_ratio(nvetohitsmdom, nvetohitspdom, nhits, nhits, low)\n",
    "        top_p = custom_pdf_ratio(nvetohitsmdom, nvetohitspdom, nhits, nhits, top)\n",
    "        low_cp = custom_cumulative_pdf_ratio(nvetohitsmdom, nvetohitspdom, nhits, nhits, low)\n",
    "        top_cp = custom_cumulative_pdf_ratio(nvetohitsmdom, nvetohitspdom, nhits, nhits, top)\n",
    "        interval = top_cp - low_cp\n",
    "        if low_p > top_p:\n",
    "            low = low - stepsize\n",
    "        else:\n",
    "            top = top + stepsize\n",
    "    return low, top\n",
    "\n",
    "low_pf, top_pf = pass_frac_num_error(mode)\n",
    "\n",
    "'''Not sure if this is right... maybe mode - low_pf and top_pf - mode?'''\n",
    "delta_low_pf = expect_pass_frac - low_pf\n",
    "delta_top_pf = top_pf - expect_pass_frac"
   ]
  },
  {
   "cell_type": "markdown",
   "metadata": {},
   "source": [
    "Check the mean of the simple beta distributions of veto efficiencies."
   ]
  },
  {
   "cell_type": "code",
   "execution_count": null,
   "metadata": {},
   "outputs": [],
   "source": [
    "expect_mdom = 0.0\n",
    "for i in range(len(p_mdom)):\n",
    "    expect_mdom += p_mdom[i]*e[i]*(1/res)\n",
    "print(expect_mdom)\n",
    "\n",
    "expect_pdom = 0.0\n",
    "for i in range(len(p_pdom)):\n",
    "    expect_pdom += p_pdom[i]*e[i]*(1/res)\n",
    "print(expect_pdom)"
   ]
  },
  {
   "cell_type": "markdown",
   "metadata": {},
   "source": [
    "Plot the beta distributions of $\\eta_{pDOM}$ and $\\eta_{mDOM}$ with corresponding error range."
   ]
  },
  {
   "cell_type": "code",
   "execution_count": null,
   "metadata": {},
   "outputs": [],
   "source": [
    "plt.title('Beta distributed veto efficiency')\n",
    "plt.rcParams['figure.figsize'] = (12, 4)\n",
    "plt.plot(e, p_pdom, '--', label = 'pDOM ({}%)'.format(100*veto_efficiency_pdom), color = 'blue')\n",
    "plt.axvline(x = low_pdom, ymin = 0, ymax = 8, ls = ':', linewidth = 1.5, color = 'blue')\n",
    "plt.axvline(x = top_pdom, ymin = 0, ymax = 8, ls = ':', linewidth = 1.5, color = 'blue')\n",
    "plt.plot(e, p_mdom, '--', label = 'mDOM ({}%)'.format(100*veto_efficiency_mdom), color = 'red')\n",
    "plt.axvline(x = low_mdom, ymin = 0, ymax = 8, ls = ':', linewidth = 1.5, color = 'red')\n",
    "plt.axvline(x = top_mdom, ymin = 0, ymax = 8, ls = ':', linewidth = 1.5, color = 'red')\n",
    "\n",
    "plt.xlabel('Veto efficiency')\n",
    "plt.ylabel('Beta distribution of veto efficiency')\n",
    "\n",
    "#plt.axvline(x=expect_pdom, ls=':', linewidth = 1.5, color = 'blue')\n",
    "#plt.axvline(x=expect_mdom, ls=':', linewidth = 1.5, color = 'red')\n",
    "plt.axvline(x=veto_efficiency_pdom, ls='-.', linewidth = 1.75, color = 'blue')\n",
    "plt.axvline(x=veto_efficiency_mdom, ls='-.', linewidth = 1.75, color = 'red')\n",
    "maxim = np.amax([np.amax(p_pdom), np.amax(p_mdom)])\n",
    "plt.fill_between([low_pdom, top_pdom], [0, 0], maxim, color = 'blue', alpha = 0.1)\n",
    "plt.fill_between([low_mdom, top_mdom], [0, 0], maxim, color = 'red', alpha = 0.1)\n",
    "\n",
    "plt.legend(loc = 'best')\n",
    "plt.grid(True)\n",
    "#plt.savefig('single_distributions.png')\n",
    "plt.show()"
   ]
  },
  {
   "cell_type": "markdown",
   "metadata": {},
   "source": [
    "Iterate over all combinations of bins from pDOM and mDOM distribution, store corresponding passing ratio and weighting."
   ]
  },
  {
   "cell_type": "code",
   "execution_count": null,
   "metadata": {},
   "outputs": [],
   "source": [
    "val_ = []\n",
    "wei_ = []\n",
    "\n",
    "for a1 in range(res-1):\n",
    "    for a2 in range(res-1):\n",
    "        va = 1.0*e[a1]/e[a2]\n",
    "        we = 1.0*p_inv_mdom[a1]*p_inv_pdom[a2]\n",
    "        if np.isnan(va) or np.isinf(va) or np.isnan(we) or np.isinf(we):\n",
    "            continue\n",
    "        else:\n",
    "            val_.append(va)\n",
    "            wei_.append(we)\n",
    "\n",
    "val_ = np.array(val_)\n",
    "wei_ = np.array(wei_)"
   ]
  },
  {
   "cell_type": "markdown",
   "metadata": {},
   "source": [
    "Here take a random segmentation of the [0, 1] interval and do the same iteration as above with the random values (should avoid the peaks at prominant rational values (1, 0.5, 2, 1.5, ...))."
   ]
  },
  {
   "cell_type": "code",
   "execution_count": null,
   "metadata": {},
   "outputs": [],
   "source": [
    "val = []\n",
    "wei = []\n",
    "\n",
    "np.random.seed(42)\n",
    "e1 = np.random.uniform(0, 1, res)\n",
    "np.random.seed(1337)\n",
    "e2 = np.random.uniform(0, 1, res)\n",
    "\n",
    "p_1 = np.array([prob_dist_beta(1.0-e1i, n_veto_hits_mdom, n_hits) for e1i in e1])\n",
    "p_2 = np.array([prob_dist_beta(1.0-e2i, n_veto_hits_pdom, n_hits) for e2i in e2])\n",
    "\n",
    "for a1 in range(len(e1)):\n",
    "    for a2 in range(len(e2)):\n",
    "        va = 1.0*e1[a1]/e2[a2]\n",
    "        we = 1.0*p_1[a1]*p_2[a2]\n",
    "        if np.isnan(va) or np.isinf(va) or np.isnan(we) or np.isinf(we):\n",
    "            continue\n",
    "        else:\n",
    "            val.append(va)\n",
    "            wei.append(we)\n",
    "            \n",
    "val = np.array(val)\n",
    "wei = np.array(wei)"
   ]
  },
  {
   "cell_type": "code",
   "execution_count": null,
   "metadata": {
    "scrolled": true
   },
   "outputs": [],
   "source": [
    "reso = 501\n",
    "\n",
    "bins = np.linspace(0,3,reso)\n",
    "hist, bin_edges = np.histogram(val_, bins = bins, weights=wei_)\n",
    "norm = np.sum(hist)\n",
    "hist = hist/norm\n",
    "bin_centers = (bins[:-1] + bins[1:])/2\n",
    "\n",
    "expect_numeric = np.dot(bin_centers, hist)\n",
    "\n",
    "expect_pass_frac = ((n_hits - n_veto_hits_mdom)*(n_hits - 1)/(n_hits*(n_hits - n_veto_hits_pdom - 1)))\n",
    "\n",
    "print(expect_numeric - expect_pass_frac)\n",
    "\n",
    "plt.title('Numerically obtained distribution of passing ratio with equidistant quotient calculation')\n",
    "plt.xlabel(r'$\\frac{1-\\eta_{mDOM}}{1-\\eta_{pDOM}}$', fontsize = 15)\n",
    "plt.ylabel('Distribution of passing ratio')\n",
    "plt.step(bin_centers, hist, where = 'mid', label = 'Numerical, equidistant')\n",
    "plt.plot(w ,p, color = 'green', label = 'Analytical')\n",
    "plt.axvline(x = expect_pass_frac, ymin = 0, ymax = 1, linewidth = 1.5, color = 'k', label = 'expected mean value calculated')\n",
    "plt.axvline(x = expect_numeric, ymin = 0, ymax = 1, linewidth = 1.5, color = 'orange', label = 'expectated mean via integration')\n",
    "plt.axvline(x = naive_expect, ymin = 0, ymax = 1, linewidth = 1.25, color = 'red', linestyle = '--', label = 'Naively expected value')\n",
    "plt.axvline(x = over_error_low, ymin = 0, ymax = 1, linewidth = 1.5, color = 'k', alpha = 0.5, label = 'overestimated error range')\n",
    "plt.axvline(x = over_error_top, ymin = 0, ymax = 1, linewidth = 1.5, color = 'k', alpha = 0.5)\n",
    "plt.axvline(x = low_pf, ymin = 0, ymax = 1, linewidth = 1.5, color = 'cyan', alpha = 1, label = 'Correct error range')\n",
    "plt.axvline(x = top_pf, ymin = 0, ymax = 1, linewidth = 1.5, color = 'cyan', alpha = 1)\n",
    "\n",
    "plt.legend(loc = 'best')\n",
    "plt.grid(True)\n",
    "#plt.savefig('num_ratio.png')\n",
    "plt.show()"
   ]
  },
  {
   "cell_type": "code",
   "execution_count": null,
   "metadata": {},
   "outputs": [],
   "source": [
    "bins = np.linspace(0,3,reso)\n",
    "hist, bin_edges = np.histogram(val, bins = bins, weights=wei)\n",
    "norm = np.sum(hist)\n",
    "hist = hist/norm\n",
    "\n",
    "bin_centers = (bins[:-1] + bins[1:])/2\n",
    "\n",
    "expect_numeric_rand = np.dot(bin_centers, hist)\n",
    "\n",
    "print(expect_numeric_rand - expect_pass_frac)\n",
    "\n",
    "plt.title('Numerically obtained distribution of passing ratio with random quotient calculation')\n",
    "plt.xlabel(r'$\\frac{1-\\eta_{mDOM}}{1-\\eta_{pDOM}}$', fontsize = 15)\n",
    "plt.ylabel('Distribution of passing ratio')\n",
    "plt.step(bin_centers,hist, where = 'mid', label = 'Numerical, random')\n",
    "plt.plot(w,p, color = 'green', label = 'Analytical')\n",
    "plt.axvline(x = expect_pass_frac, ymin = 0, ymax = 1, linewidth = 1.5, color = 'k', label = 'expected mean value calculated')\n",
    "plt.axvline(x = expect_numeric_rand, ymin = 0, ymax = 1, linewidth = 1.5, color = 'orange', label = 'expectated mean via integration')\n",
    "plt.axvline(x = naive_expect, ymin = 0, ymax = 1, linewidth = 1.25, color = 'red', linestyle = '--', label = 'Naively expected value')\n",
    "plt.axvline(x = over_error_low, ymin = 0, ymax = 1, linewidth = 1.5, color = 'k', alpha = 0.5)\n",
    "plt.axvline(x = over_error_top, ymin = 0, ymax = 1, linewidth = 1.5, color = 'k', alpha = 0.5, label = 'overestimated error range')\n",
    "\n",
    "plt.legend(loc = 'best')\n",
    "plt.grid(True)\n",
    "#plt.savefig('num_ratio_rand.png')\n",
    "plt.show()"
   ]
  },
  {
   "cell_type": "code",
   "execution_count": null,
   "metadata": {},
   "outputs": [],
   "source": []
  }
 ],
 "metadata": {
  "kernelspec": {
   "display_name": "Python 3",
   "language": "python",
   "name": "python3"
  },
  "language_info": {
   "codemirror_mode": {
    "name": "ipython",
    "version": 3
   },
   "file_extension": ".py",
   "mimetype": "text/x-python",
   "name": "python",
   "nbconvert_exporter": "python",
   "pygments_lexer": "ipython3",
   "version": "3.5.2"
  }
 },
 "nbformat": 4,
 "nbformat_minor": 2
}
